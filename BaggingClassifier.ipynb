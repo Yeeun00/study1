{
  "nbformat": 4,
  "nbformat_minor": 0,
  "metadata": {
    "colab": {
      "name": "BaggingClassifier.ipynb",
      "provenance": [],
      "authorship_tag": "ABX9TyP8CQ9UM33ByW1lc483Kc4/",
      "include_colab_link": true
    },
    "kernelspec": {
      "name": "python3",
      "display_name": "Python 3"
    },
    "language_info": {
      "name": "python"
    }
  },
  "cells": [
    {
      "cell_type": "markdown",
      "metadata": {
        "id": "view-in-github",
        "colab_type": "text"
      },
      "source": [
        "<a href=\"https://colab.research.google.com/github/Yeeun00/study1/blob/main/BaggingClassifier.ipynb\" target=\"_parent\"><img src=\"https://colab.research.google.com/assets/colab-badge.svg\" alt=\"Open In Colab\"/></a>"
      ]
    },
    {
      "cell_type": "markdown",
      "source": [
        "BaggingClassifier"
      ],
      "metadata": {
        "id": "ytmxbJzsMif4"
      }
    },
    {
      "cell_type": "code",
      "execution_count": 1,
      "metadata": {
        "id": "mVBhofFjMaoU"
      },
      "outputs": [],
      "source": [
        "from sklearn.model_selection import train_test_split\n",
        "from sklearn.datasets import load_breast_cancer"
      ]
    },
    {
      "cell_type": "code",
      "source": [
        "# load data\n",
        "cancer = load_breast_cancer()\n",
        "X_train, X_test, y_train, y_test = train_test_split(cancer.data, cancer.target, random_state=66)"
      ],
      "metadata": {
        "id": "n54ft0iXM4i0"
      },
      "execution_count": 2,
      "outputs": []
    },
    {
      "cell_type": "code",
      "source": [
        "from sklearn.linear_model import LogisticRegression\n",
        "from sklearn.ensemble import BaggingClassifier"
      ],
      "metadata": {
        "id": "5W5fw7L7PdRR"
      },
      "execution_count": 3,
      "outputs": []
    },
    {
      "cell_type": "code",
      "source": [
        "# oob_score (부트스트랩 샘플링에 포함되지 않는 샘플을 기반으로 훈련된 모델을 평가)\n",
        "model = BaggingClassifier(LogisticRegression(solver='liblinear'),n_estimators=100, oob_score=True, n_jobs=1, random_state=42)\n",
        "model.fit(X_train, y_train)"
      ],
      "metadata": {
        "colab": {
          "base_uri": "https://localhost:8080/"
        },
        "id": "nytVOJbaPrVF",
        "outputId": "bda2b4b1-fbb5-4744-f203-ac1a31d4edb5"
      },
      "execution_count": 4,
      "outputs": [
        {
          "output_type": "execute_result",
          "data": {
            "text/plain": [
              "BaggingClassifier(base_estimator=LogisticRegression(solver='liblinear'),\n",
              "                  n_estimators=100, n_jobs=1, oob_score=True, random_state=42)"
            ]
          },
          "metadata": {},
          "execution_count": 4
        }
      ]
    },
    {
      "cell_type": "code",
      "source": [
        "# 평가\n",
        "print(\"훈련 세트 정확도 : {}\" .format(model.score(X_train, y_train)))\n",
        "print(\"테스트 세트 정확도 : {}\" .format(model.score(X_test,y_test)))\n",
        "print(\"oob샘플의 정확도 : {}\" .format(model.oob_score_))"
      ],
      "metadata": {
        "colab": {
          "base_uri": "https://localhost:8080/"
        },
        "id": "XCpHo0T3QkY_",
        "outputId": "5b05f374-729e-4fdd-9279-16feb4a37281"
      },
      "execution_count": 5,
      "outputs": [
        {
          "output_type": "stream",
          "name": "stdout",
          "text": [
            "훈련 세트 정확도 : 0.9530516431924883\n",
            "테스트 세트 정확도 : 0.951048951048951\n",
            "oob샘플의 정확도 : 0.9460093896713615\n"
          ]
        }
      ]
    }
  ]
}