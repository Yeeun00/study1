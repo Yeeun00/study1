{
  "nbformat": 4,
  "nbformat_minor": 0,
  "metadata": {
    "colab": {
      "name": "RidgeRegression.ipynb",
      "provenance": [],
      "authorship_tag": "ABX9TyMfKT40E+2SohZiWihei0ao",
      "include_colab_link": true
    },
    "kernelspec": {
      "name": "python3",
      "display_name": "Python 3"
    },
    "language_info": {
      "name": "python"
    }
  },
  "cells": [
    {
      "cell_type": "markdown",
      "metadata": {
        "id": "view-in-github",
        "colab_type": "text"
      },
      "source": [
        "<a href=\"https://colab.research.google.com/github/Yeeun00/study1/blob/main/RidgeRegression.ipynb\" target=\"_parent\"><img src=\"https://colab.research.google.com/assets/colab-badge.svg\" alt=\"Open In Colab\"/></a>"
      ]
    },
    {
      "cell_type": "code",
      "execution_count": null,
      "metadata": {
        "id": "oZRHEzofFWqb"
      },
      "outputs": [],
      "source": [
        "# load library\n",
        "import numpy as np\n",
        "from sklearn.linear_model import LinearRegression\n",
        "import matplotlib.pyplot as plt\n",
        "%matplotlib inline\n",
        "#import warnings warnings.filterwarnings(\"ignore\", category=DeprecationWarning)"
      ]
    },
    {
      "cell_type": "code",
      "source": [
        ""
      ],
      "metadata": {
        "id": "_jO9lXI8l1C8"
      },
      "execution_count": null,
      "outputs": []
    },
    {
      "cell_type": "code",
      "source": [
        "# define data\n",
        "kilograms = np.array([49, 10, 0, 21, 44, 2, 100], dtype=float).reshape((-1,1))\n",
        "pounds = np.array([108.027, 22.0462, 0, 46.2971, 97.0034, 4.40925, 220.462], dtype=float).reshape((-1,1))\n",
        "\n",
        "for i,c in enumerate(kilograms):\n",
        "\tprint(\"%s Kilograms = %s Pounds\" %(c, pounds[i]))"
      ],
      "metadata": {
        "colab": {
          "base_uri": "https://localhost:8080/"
        },
        "id": "kA-gJVdTF9ia",
        "outputId": "fb5296b1-5ba6-4aa8-dc3d-83f0a5944944"
      },
      "execution_count": null,
      "outputs": [
        {
          "output_type": "stream",
          "name": "stdout",
          "text": [
            "[49.] Kilograms = [108.027] Pounds\n",
            "[10.] Kilograms = [22.0462] Pounds\n",
            "[0.] Kilograms = [0.] Pounds\n",
            "[21.] Kilograms = [46.2971] Pounds\n",
            "[44.] Kilograms = [97.0034] Pounds\n",
            "[2.] Kilograms = [4.40925] Pounds\n",
            "[100.] Kilograms = [220.462] Pounds\n"
          ]
        }
      ]
    },
    {
      "cell_type": "code",
      "source": [
        "plt.scatter(kilograms, pounds)\n",
        "plt.xlabel('pounds')\n",
        "plt.ylabel('kilograms')\n",
        "plt.show()"
      ],
      "metadata": {
        "colab": {
          "base_uri": "https://localhost:8080/",
          "height": 279
        },
        "id": "2PX5Xw30GAWn",
        "outputId": "c8de85aa-3c8d-44e5-f1df-b7fc62668a8d"
      },
      "execution_count": null,
      "outputs": [
        {
          "output_type": "display_data",
          "data": {
            "image/png": "[encoded data removed]",
            "text/plain": [
              "<Figure size 432x288 with 1 Axes>"
            ]
          },
          "metadata": {
            "needs_background": "light"
          }
        }
      ]
    },
    {
      "cell_type": "code",
      "source": [
        "from sklearn.linear_model import LinearRegression\n",
        "# create a linear regression model\n",
        "model = LinearRegression()"
      ],
      "metadata": {
        "id": "0RR8XnrEGXn6"
      },
      "execution_count": null,
      "outputs": []
    },
    {
      "cell_type": "code",
      "source": [
        "# train data\n",
        "model.fit(pounds, kilograms)"
      ],
      "metadata": {
        "colab": {
          "base_uri": "https://localhost:8080/"
        },
        "id": "YAQHw4f1Gcxh",
        "outputId": "a0e334a1-b194-4567-b568-8879133b41ad"
      },
      "execution_count": null,
      "outputs": [
        {
          "output_type": "execute_result",
          "data": {
            "text/plain": [
              "LinearRegression()"
            ]
          },
          "metadata": {},
          "execution_count": 5
        }
      ]
    },
    {
      "cell_type": "code",
      "source": [
        "# predict data - 30.0 pounds to kilograms\n",
        "result_kilograms = model.predict([[30.0]])"
      ],
      "metadata": {
        "id": "d9LuWqHVGfN3"
      },
      "execution_count": null,
      "outputs": []
    },
    {
      "cell_type": "code",
      "source": [
        "print('30.0 pounds >> %s kilograms' %(result_kilograms[0][0]))"
      ],
      "metadata": {
        "colab": {
          "base_uri": "https://localhost:8080/"
        },
        "id": "l9dRLXeeGhi8",
        "outputId": "636ad93c-9807-4fc2-a9eb-72f03f889592"
      },
      "execution_count": null,
      "outputs": [
        {
          "output_type": "stream",
          "name": "stdout",
          "text": [
            "30.0 pounds >> 13.607745297753658 kilograms\n"
          ]
        }
      ]
    },
    {
      "cell_type": "code",
      "source": [
        "# print weights and bias\n",
        "print(model.coef_[0][0])\n",
        "print(model.intercept_[0])"
      ],
      "metadata": {
        "colab": {
          "base_uri": "https://localhost:8080/"
        },
        "id": "NHy-CL5SGljc",
        "outputId": "5fe97966-18c4-4022-b00a-e0171e6ee92d"
      },
      "execution_count": null,
      "outputs": [
        {
          "output_type": "stream",
          "name": "stdout",
          "text": [
            "0.45359262292617586\n",
            "-3.339003161784149e-05\n"
          ]
        }
      ]
    },
    {
      "cell_type": "code",
      "source": [
        "# re-calculate based on the weights and bias\n",
        "# output y kilograms = input x pounds * weights + bias\n",
        "# 13.607745297753652 = 30.0 * 0.4535926229261759 + -3.3390031624946914e-05\n",
        "30.0*model.coef_[0][0]+model.intercept_[0]"
      ],
      "metadata": {
        "colab": {
          "base_uri": "https://localhost:8080/"
        },
        "id": "U4HvTqSxGm75",
        "outputId": "03f0a0ed-3e6a-4054-dc5e-ef0db5acdb52"
      },
      "execution_count": null,
      "outputs": [
        {
          "output_type": "execute_result",
          "data": {
            "text/plain": [
              "13.607745297753658"
            ]
          },
          "metadata": {},
          "execution_count": 9
        }
      ]
    },
    {
      "cell_type": "code",
      "source": [
        "# draw data with linear regression model\n",
        "plt.title('Kilograms and Pounds')\n",
        "plt.xlabel('Pounds')\n",
        "plt.ylabel('Kilograms')\n",
        "plt.plot(pounds, kilograms,'k.')\n",
        "plt.grid(True)\n",
        "plt.plot(pounds, model.predict(pounds))"
      ],
      "metadata": {
        "colab": {
          "base_uri": "https://localhost:8080/",
          "height": 313
        },
        "id": "43jTAYmgGrKk",
        "outputId": "64bf29e7-6db9-4562-b0d0-60d13bd0e35b"
      },
      "execution_count": null,
      "outputs": [
        {
          "output_type": "execute_result",
          "data": {
            "text/plain": [
              "[<matplotlib.lines.Line2D at 0x7f4ebb43dcd0>]"
            ]
          },
          "metadata": {},
          "execution_count": 10
        },
        {
          "output_type": "display_data",
          "data": {
            "image/png": "[encoded data removed]",
            "text/plain": [
              "<Figure size 432x288 with 1 Axes>"
            ]
          },
          "metadata": {
            "needs_background": "light"
          }
        }
      ]
    }
  ]
}